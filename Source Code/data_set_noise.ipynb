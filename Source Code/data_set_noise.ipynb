{
  "nbformat": 4,
  "nbformat_minor": 0,
  "metadata": {
    "colab": {
      "provenance": [],
      "authorship_tag": "ABX9TyOQf/iCeWZxdJW67XmR9kgI",
      "include_colab_link": true
    },
    "kernelspec": {
      "name": "python3",
      "display_name": "Python 3"
    },
    "language_info": {
      "name": "python"
    }
  },
  "cells": [
    {
      "cell_type": "markdown",
      "metadata": {
        "id": "view-in-github",
        "colab_type": "text"
      },
      "source": [
        "<a href=\"https://colab.research.google.com/github/nattatorn-chu/HAREC-IOT/blob/main/Source%20Code/data_set_noise.ipynb\" target=\"_parent\"><img src=\"https://colab.research.google.com/assets/colab-badge.svg\" alt=\"Open In Colab\"/></a>"
      ]
    },
    {
      "cell_type": "code",
      "execution_count": null,
      "metadata": {
        "colab": {
          "base_uri": "https://localhost:8080/"
        },
        "id": "NRPEjV8ftM7P",
        "outputId": "7cafa5d6-71ce-4ad1-9ea7-6858c9849fae"
      },
      "outputs": [
        {
          "output_type": "stream",
          "name": "stdout",
          "text": [
            "Mounted at /content/drive\n"
          ]
        }
      ],
      "source": [
        "from google.colab import drive\n",
        "drive.mount('/content/drive')"
      ]
    },
    {
      "cell_type": "code",
      "source": [
        "import pandas as pd\n",
        "import numpy as np\n",
        "import matplotlib.pyplot as plt"
      ],
      "metadata": {
        "id": "f1SyLojWtO-l"
      },
      "execution_count": null,
      "outputs": []
    },
    {
      "cell_type": "code",
      "source": [
        "data = pd.read_csv('../content/drive/MyDrive/ExtraSensory/combine-6-activity/modified_activity/data_set_zero.csv')\n",
        "data.head()"
      ],
      "metadata": {
        "id": "h7YAJqiltPBK"
      },
      "execution_count": null,
      "outputs": []
    },
    {
      "cell_type": "code",
      "source": [
        "import pandas as pd\n",
        "from sklearn.model_selection import train_test_split\n",
        "from sklearn.neighbors import KNeighborsClassifier\n",
        "from sklearn.multioutput import MultiOutputClassifier\n",
        "from sklearn.metrics import classification_report\n",
        "from sklearn.metrics import accuracy_score\n",
        "\n",
        "# Load the data from CSV file\n",
        "data = pd.read_csv('../content/drive/MyDrive/ExtraSensory/combine-6-activity/raw-data.csv')\n",
        "\n",
        "# Define the label names\n",
        "labels = ['label:LOC_main_workplace','label:LOC_home','label:AT_SCHOOL','label:LYING_DOWN','label:SITTING','label:SLEEPING']\n",
        "\n",
        "# Split the data into training and testing sets\n",
        "X = data.iloc[:, :12]\n",
        "y = data.iloc[:, 12:]\n",
        "X_train, X_test, y_train, y_test = train_test_split(X, y, test_size=0.2, random_state=42)\n",
        "\n",
        "# Fit the model on the training data\n",
        "k = 3\n",
        "clf = MultiOutputClassifier(KNeighborsClassifier(n_neighbors=k))\n",
        "clf.fit(X_train, y_train)\n",
        "\n",
        "# Make predictions on the testing data\n",
        "y_pred = clf.predict(X_test)\n",
        "\n",
        "# Evaluate the model's performance\n",
        "report = classification_report(y_test, y_pred, target_names=labels)\n",
        "print(report)\n",
        "\n",
        "# Calculate accuracy for each label\n",
        "for i in range(len(labels)):\n",
        "    acc = accuracy_score(y_test.iloc[:, i], y_pred[:, i])\n",
        "    print(f\"Accuracy for {labels[i]}: {acc}\")"
      ],
      "metadata": {
        "colab": {
          "base_uri": "https://localhost:8080/"
        },
        "id": "kpyjOPBA3kfE",
        "outputId": "32e41041-ab7e-44be-f82c-0e4bfa29b3c4"
      },
      "execution_count": null,
      "outputs": [
        {
          "output_type": "stream",
          "name": "stdout",
          "text": [
            "                          precision    recall  f1-score   support\n",
            "\n",
            "label:LOC_main_workplace       0.80      0.75      0.77      3807\n",
            "          label:LOC_home       0.90      0.88      0.89      9186\n",
            "         label:AT_SCHOOL       0.78      0.72      0.75      3993\n",
            "        label:LYING_DOWN       0.95      0.93      0.94      6808\n",
            "           label:SITTING       0.87      0.87      0.87      9499\n",
            "          label:SLEEPING       0.96      0.95      0.95      5678\n",
            "\n",
            "               micro avg       0.89      0.87      0.88     38971\n",
            "               macro avg       0.88      0.85      0.86     38971\n",
            "            weighted avg       0.89      0.87      0.88     38971\n",
            "             samples avg       0.77      0.77      0.76     38971\n",
            "\n",
            "Accuracy for label:LOC_main_workplace: 0.9202158135981665\n",
            "Accuracy for label:LOC_home: 0.9057486631016043\n",
            "Accuracy for label:AT_SCHOOL: 0.9075152788388082\n",
            "Accuracy for label:LYING_DOWN: 0.962137127578304\n",
            "Accuracy for label:SITTING: 0.8817799847211611\n",
            "Accuracy for label:SLEEPING: 0.9745034377387318\n"
          ]
        },
        {
          "output_type": "stream",
          "name": "stderr",
          "text": [
            "/usr/local/lib/python3.9/dist-packages/sklearn/metrics/_classification.py:1344: UndefinedMetricWarning: Precision and F-score are ill-defined and being set to 0.0 in samples with no predicted labels. Use `zero_division` parameter to control this behavior.\n",
            "  _warn_prf(average, modifier, msg_start, len(result))\n",
            "/usr/local/lib/python3.9/dist-packages/sklearn/metrics/_classification.py:1344: UndefinedMetricWarning: Recall and F-score are ill-defined and being set to 0.0 in samples with no true labels. Use `zero_division` parameter to control this behavior.\n",
            "  _warn_prf(average, modifier, msg_start, len(result))\n"
          ]
        }
      ]
    },
    {
      "cell_type": "code",
      "source": [
        "import pandas as pd\n",
        "from sklearn.feature_selection import SelectKBest, f_classif\n",
        "\n",
        "# Load the CSV file into a pandas dataframe\n",
        "data = pd.read_csv('../content/drive/MyDrive/ExtraSensory/combine-6-activity/modified_activity/data_set_zero.csv')\n",
        "\n",
        "# Split the data into features and labels\n",
        "X = data.iloc[:,:12]\n",
        "y = data.iloc[:,12:]\n",
        "\n",
        "# Use SelectKBest to identify the top 5 features for each label\n",
        "k = 5\n",
        "selector = SelectKBest(f_classif, k=k)\n",
        "for label in y:\n",
        "    selector.fit(X, y[label])\n",
        "    # Get the indices of the top k features\n",
        "    top_k_indices = selector.get_support(indices=True)\n",
        "    # Get the names of the top k features\n",
        "    top_k_features = X.columns[top_k_indices]\n",
        "    print(\"Top %d features for %s: %s\" % (k, label, top_k_features))"
      ],
      "metadata": {
        "colab": {
          "base_uri": "https://localhost:8080/"
        },
        "id": "vkT1G3qEtPEL",
        "outputId": "aff02d84-07c7-4f47-a876-603cdbbd1341"
      },
      "execution_count": null,
      "outputs": [
        {
          "output_type": "stream",
          "name": "stdout",
          "text": [
            "Top 5 features for label:LOC_main_workplace: Index(['raw_acc:3d:mean_x', 'raw_acc:3d:std_z', 'proc_gyro:3d:std_x',\n",
            "       'proc_gyro:3d:std_y', 'proc_gyro:3d:std_z'],\n",
            "      dtype='object')\n",
            "Top 5 features for label:LOC_home: Index(['raw_acc:3d:mean_x', 'raw_acc:3d:std_x', 'raw_acc:3d:std_z',\n",
            "       'proc_gyro:3d:std_y', 'proc_gyro:3d:std_z'],\n",
            "      dtype='object')\n",
            "Top 5 features for label:AT_SCHOOL: Index(['raw_acc:3d:mean_x', 'raw_acc:3d:std_z', 'proc_gyro:3d:std_x',\n",
            "       'proc_gyro:3d:std_y', 'proc_gyro:3d:std_z'],\n",
            "      dtype='object')\n",
            "Top 5 features for label:LYING_DOWN: Index(['raw_acc:3d:std_x', 'raw_acc:3d:std_z', 'proc_gyro:3d:std_x',\n",
            "       'proc_gyro:3d:std_y', 'proc_gyro:3d:std_z'],\n",
            "      dtype='object')\n",
            "Top 5 features for label:SITTING: Index(['raw_acc:3d:mean_x', 'raw_acc:3d:std_z', 'proc_gyro:3d:std_x',\n",
            "       'proc_gyro:3d:std_y', 'proc_gyro:3d:std_z'],\n",
            "      dtype='object')\n",
            "Top 5 features for label:SLEEPING: Index(['raw_acc:3d:mean_x', 'raw_acc:3d:std_x', 'raw_acc:3d:std_z',\n",
            "       'proc_gyro:3d:std_y', 'proc_gyro:3d:std_z'],\n",
            "      dtype='object')\n"
          ]
        }
      ]
    },
    {
      "cell_type": "code",
      "source": [
        "import numpy as np\n",
        "\n",
        "# Load the CSV file into a pandas dataframe\n",
        "df = pd.read_csv('../content/drive/MyDrive/ExtraSensory/combine-6-activity/raw-data.csv')\n",
        "\n",
        "# Dictionary of activity to sensor value mappings\n",
        "activity_sensor_map = {\n",
        "    'label:LOC_main_workplace': ['raw_acc:3d:mean_x', 'raw_acc:3d:std_z', 'proc_gyro:3d:std_x','proc_gyro:3d:std_y', 'proc_gyro:3d:std_z'],\n",
        "    'label:LOC_home': ['raw_acc:3d:mean_x', 'raw_acc:3d:std_x', 'raw_acc:3d:std_z','proc_gyro:3d:std_y', 'proc_gyro:3d:std_z'],\n",
        "    'label:AT_SCHOOL': ['raw_acc:3d:mean_x', 'raw_acc:3d:std_z', 'proc_gyro:3d:std_x','proc_gyro:3d:std_y', 'proc_gyro:3d:std_z'],\n",
        "    'label:LYING_DOWN': ['raw_acc:3d:std_x', 'raw_acc:3d:std_z', 'proc_gyro:3d:std_x','proc_gyro:3d:std_y', 'proc_gyro:3d:std_z'],\n",
        "    'label:SITTING': ['raw_acc:3d:mean_x', 'raw_acc:3d:std_z', 'proc_gyro:3d:std_x','proc_gyro:3d:std_y', 'proc_gyro:3d:std_z'],\n",
        "    'label:SLEEPING': ['raw_acc:3d:mean_x', 'raw_acc:3d:std_x', 'raw_acc:3d:std_z','proc_gyro:3d:std_y', 'proc_gyro:3d:std_z']\n",
        "}\n",
        "\n",
        "# Function to add noise to sensor values\n",
        "def add_noise(x, noise_factor):\n",
        "    noise = np.random.normal(scale=noise_factor, size=x.shape)\n",
        "    return x + noise\n",
        "\n",
        "# Loop over each activity and modify the specified sensor values\n",
        "for activity, sensor_values in activity_sensor_map.items():\n",
        "    # Select only the rows where the activity is 1\n",
        "    activity_df = df[df[activity] == 1]\n",
        "    \n",
        "    # Add random noise to the specified sensor values\n",
        "    activity_df.loc[:, sensor_values] = add_noise(activity_df.loc[:, sensor_values], noise_factor=0.1)\n",
        "    \n",
        "    # Merge the modified activity_df back into the original dataframe\n",
        "    df.update(activity_df)\n",
        "\n",
        "# Save the modified dataframe back to a CSV file\n",
        "df.to_csv(\"../content/drive/MyDrive/ExtraSensory/combine-6-activity/modified_activity/data_set_noise.csv\", index=False)"
      ],
      "metadata": {
        "colab": {
          "base_uri": "https://localhost:8080/"
        },
        "id": "5f97MQ4StPGr",
        "outputId": "266092b6-2f99-4f11-e025-5dce007cef23"
      },
      "execution_count": null,
      "outputs": [
        {
          "output_type": "stream",
          "name": "stderr",
          "text": [
            "<ipython-input-13-521d2aa78514>:27: SettingWithCopyWarning: \n",
            "A value is trying to be set on a copy of a slice from a DataFrame.\n",
            "Try using .loc[row_indexer,col_indexer] = value instead\n",
            "\n",
            "See the caveats in the documentation: https://pandas.pydata.org/pandas-docs/stable/user_guide/indexing.html#returning-a-view-versus-a-copy\n",
            "  activity_df.loc[:, sensor_values] = add_noise(activity_df.loc[:, sensor_values], noise_factor=0.1)\n",
            "<ipython-input-13-521d2aa78514>:27: SettingWithCopyWarning: \n",
            "A value is trying to be set on a copy of a slice from a DataFrame\n",
            "\n",
            "See the caveats in the documentation: https://pandas.pydata.org/pandas-docs/stable/user_guide/indexing.html#returning-a-view-versus-a-copy\n",
            "  activity_df.loc[:, sensor_values] = add_noise(activity_df.loc[:, sensor_values], noise_factor=0.1)\n",
            "<ipython-input-13-521d2aa78514>:27: SettingWithCopyWarning: \n",
            "A value is trying to be set on a copy of a slice from a DataFrame\n",
            "\n",
            "See the caveats in the documentation: https://pandas.pydata.org/pandas-docs/stable/user_guide/indexing.html#returning-a-view-versus-a-copy\n",
            "  activity_df.loc[:, sensor_values] = add_noise(activity_df.loc[:, sensor_values], noise_factor=0.1)\n",
            "<ipython-input-13-521d2aa78514>:27: SettingWithCopyWarning: \n",
            "A value is trying to be set on a copy of a slice from a DataFrame\n",
            "\n",
            "See the caveats in the documentation: https://pandas.pydata.org/pandas-docs/stable/user_guide/indexing.html#returning-a-view-versus-a-copy\n",
            "  activity_df.loc[:, sensor_values] = add_noise(activity_df.loc[:, sensor_values], noise_factor=0.1)\n",
            "<ipython-input-13-521d2aa78514>:27: SettingWithCopyWarning: \n",
            "A value is trying to be set on a copy of a slice from a DataFrame\n",
            "\n",
            "See the caveats in the documentation: https://pandas.pydata.org/pandas-docs/stable/user_guide/indexing.html#returning-a-view-versus-a-copy\n",
            "  activity_df.loc[:, sensor_values] = add_noise(activity_df.loc[:, sensor_values], noise_factor=0.1)\n",
            "<ipython-input-13-521d2aa78514>:27: SettingWithCopyWarning: \n",
            "A value is trying to be set on a copy of a slice from a DataFrame\n",
            "\n",
            "See the caveats in the documentation: https://pandas.pydata.org/pandas-docs/stable/user_guide/indexing.html#returning-a-view-versus-a-copy\n",
            "  activity_df.loc[:, sensor_values] = add_noise(activity_df.loc[:, sensor_values], noise_factor=0.1)\n"
          ]
        }
      ]
    },
    {
      "cell_type": "code",
      "source": [
        "import pandas as pd\n",
        "from sklearn.model_selection import train_test_split\n",
        "from sklearn.neighbors import KNeighborsClassifier\n",
        "from sklearn.multioutput import MultiOutputClassifier\n",
        "from sklearn.metrics import classification_report\n",
        "from sklearn.metrics import accuracy_score\n",
        "\n",
        "# Load the data from CSV file\n",
        "data = pd.read_csv('../content/drive/MyDrive/ExtraSensory/combine-6-activity/modified_activity/data_set_noise.csv')\n",
        "\n",
        "# Define the label names\n",
        "labels = ['label:LOC_main_workplace','label:LOC_home','label:AT_SCHOOL','label:LYING_DOWN','label:SITTING','label:SLEEPING']\n",
        "\n",
        "# Split the data into training and testing sets\n",
        "X = data.iloc[:, :12]\n",
        "y = data.iloc[:, 12:]\n",
        "X_train, X_test, y_train, y_test = train_test_split(X, y, test_size=0.2, random_state=42)\n",
        "\n",
        "# Fit the model on the training data\n",
        "k = 3\n",
        "clf = MultiOutputClassifier(KNeighborsClassifier(n_neighbors=k))\n",
        "clf.fit(X_train, y_train)\n",
        "\n",
        "# Make predictions on the testing data\n",
        "y_pred = clf.predict(X_test)\n",
        "\n",
        "# Evaluate the model's performance\n",
        "report = classification_report(y_test, y_pred, target_names=labels)\n",
        "print(report)\n",
        "\n",
        "# Calculate accuracy for each label\n",
        "for i in range(len(labels)):\n",
        "    acc = accuracy_score(y_test.iloc[:, i], y_pred[:, i])\n",
        "    print(f\"Accuracy for {labels[i]}: {acc}\")"
      ],
      "metadata": {
        "colab": {
          "base_uri": "https://localhost:8080/"
        },
        "id": "V4WiwbNKwWVo",
        "outputId": "1803ea99-3b9c-474d-8b92-909b61cecc48"
      },
      "execution_count": null,
      "outputs": [
        {
          "output_type": "stream",
          "name": "stdout",
          "text": [
            "                          precision    recall  f1-score   support\n",
            "\n",
            "label:LOC_main_workplace       0.46      0.37      0.41      3807\n",
            "          label:LOC_home       0.76      0.65      0.70      9186\n",
            "         label:AT_SCHOOL       0.49      0.35      0.40      3993\n",
            "        label:LYING_DOWN       0.74      0.62      0.67      6808\n",
            "           label:SITTING       0.69      0.69      0.69      9499\n",
            "          label:SLEEPING       0.69      0.56      0.62      5678\n",
            "\n",
            "               micro avg       0.68      0.58      0.63     38971\n",
            "               macro avg       0.64      0.54      0.58     38971\n",
            "            weighted avg       0.67      0.58      0.62     38971\n",
            "             samples avg       0.57      0.53      0.53     38971\n",
            "\n",
            "Accuracy for label:LOC_main_workplace: 0.8066749427043545\n",
            "Accuracy for label:LOC_home: 0.7577826585179527\n",
            "Accuracy for label:AT_SCHOOL: 0.8066749427043545\n",
            "Accuracy for label:LYING_DOWN: 0.8041921313980137\n",
            "Accuracy for label:SITTING: 0.7205404889228418\n",
            "Accuracy for label:SLEEPING: 0.8108288770053476\n"
          ]
        },
        {
          "output_type": "stream",
          "name": "stderr",
          "text": [
            "/usr/local/lib/python3.9/dist-packages/sklearn/metrics/_classification.py:1344: UndefinedMetricWarning: Precision and F-score are ill-defined and being set to 0.0 in samples with no predicted labels. Use `zero_division` parameter to control this behavior.\n",
            "  _warn_prf(average, modifier, msg_start, len(result))\n",
            "/usr/local/lib/python3.9/dist-packages/sklearn/metrics/_classification.py:1344: UndefinedMetricWarning: Recall and F-score are ill-defined and being set to 0.0 in samples with no true labels. Use `zero_division` parameter to control this behavior.\n",
            "  _warn_prf(average, modifier, msg_start, len(result))\n"
          ]
        }
      ]
    },
    {
      "cell_type": "code",
      "source": [
        "import pandas as pd\n",
        "\n",
        "# Load the CSV data into a Pandas DataFrame\n",
        "df = pd.read_csv('../content/drive/MyDrive/ExtraSensory/combine-6-activity/modified_activity/data_set_noise.csv')\n",
        "\n",
        "# Define a function to merge the activity labels into two groups using the OR principle\n",
        "def merge_activities(row):\n",
        "    if row['label:LOC_main_workplace'] == 1 or row['label:LOC_home'] == 1 or row['label:AT_SCHOOL'] == 1:\n",
        "        return 'indoor'\n",
        "    elif row['label:LYING_DOWN'] == 1 or row['label:SITTING'] == 1 or row['label:SLEEPING'] == 1:\n",
        "        return 'daily'\n",
        "    else:\n",
        "        return 'unknown'\n",
        "\n",
        "# Apply the function to create two new columns with the merged activity labels\n",
        "df['indoor'] = df.apply(lambda row: 1 if merge_activities(row) == 'indoor' else 0, axis=1)\n",
        "df['daily'] = df.apply(lambda row: 1 if merge_activities(row) == 'daily' else 0, axis=1)\n",
        "df = df.drop(columns=['label:LOC_main_workplace', 'label:LOC_home', 'label:AT_SCHOOL', 'label:LYING_DOWN', 'label:SITTING', 'label:SLEEPING'])\n",
        "df.to_csv('../content/drive/MyDrive/ExtraSensory/ThesisLab/DataScramble_data_set_noise.csv', index=False)"
      ],
      "metadata": {
        "id": "NKFvigW6xXsS"
      },
      "execution_count": null,
      "outputs": []
    },
    {
      "cell_type": "code",
      "source": [
        "import pandas as pd\n",
        "from sklearn.model_selection import train_test_split\n",
        "from sklearn.neighbors import KNeighborsClassifier\n",
        "from sklearn.multioutput import MultiOutputClassifier\n",
        "from sklearn.metrics import classification_report\n",
        "from sklearn.metrics import accuracy_score\n",
        "\n",
        "# Load the data from CSV file\n",
        "data = pd.read_csv('../content/drive/MyDrive/ExtraSensory/ThesisLab/DataScramble_data_set_noise.csv')\n",
        "\n",
        "# Define the label names\n",
        "labels = ['indoor','daily']\n",
        "\n",
        "# Split the data into training and testing sets\n",
        "X = data.iloc[:, :12]\n",
        "y = data.iloc[:, 12:]\n",
        "X_train, X_test, y_train, y_test = train_test_split(X, y, test_size=0.2, random_state=42)\n",
        "\n",
        "# Fit the model on the training data\n",
        "k = 3\n",
        "clf = MultiOutputClassifier(KNeighborsClassifier(n_neighbors=k))\n",
        "clf.fit(X_train, y_train)\n",
        "\n",
        "# Make predictions on the testing data\n",
        "y_pred = clf.predict(X_test)\n",
        "\n",
        "# Evaluate the model's performance\n",
        "report = classification_report(y_test, y_pred, target_names=labels)\n",
        "print(report)\n",
        "\n",
        "# Calculate accuracy for each label\n",
        "for i in range(len(labels)):\n",
        "    acc = accuracy_score(y_test.iloc[:, i], y_pred[:, i])\n",
        "    print(f\"Accuracy for {labels[i]}: {acc}\")"
      ],
      "metadata": {
        "colab": {
          "base_uri": "https://localhost:8080/"
        },
        "id": "RBS9AP9HxXu5",
        "outputId": "ba8caed6-7452-4310-da05-ce5754978371"
      },
      "execution_count": null,
      "outputs": [
        {
          "output_type": "stream",
          "name": "stdout",
          "text": [
            "              precision    recall  f1-score   support\n",
            "\n",
            "      indoor       0.88      0.89      0.88     14838\n",
            "       daily       0.69      0.61      0.65      4220\n",
            "\n",
            "   micro avg       0.84      0.83      0.83     19058\n",
            "   macro avg       0.78      0.75      0.77     19058\n",
            "weighted avg       0.84      0.83      0.83     19058\n",
            " samples avg       0.75      0.75      0.75     19058\n",
            "\n",
            "Accuracy for indoor: 0.8310255920550038\n",
            "Accuracy for daily: 0.8671218487394958\n"
          ]
        },
        {
          "output_type": "stream",
          "name": "stderr",
          "text": [
            "/usr/local/lib/python3.9/dist-packages/sklearn/metrics/_classification.py:1344: UndefinedMetricWarning: Precision and F-score are ill-defined and being set to 0.0 in samples with no predicted labels. Use `zero_division` parameter to control this behavior.\n",
            "  _warn_prf(average, modifier, msg_start, len(result))\n",
            "/usr/local/lib/python3.9/dist-packages/sklearn/metrics/_classification.py:1344: UndefinedMetricWarning: Recall and F-score are ill-defined and being set to 0.0 in samples with no true labels. Use `zero_division` parameter to control this behavior.\n",
            "  _warn_prf(average, modifier, msg_start, len(result))\n"
          ]
        }
      ]
    },
    {
      "cell_type": "code",
      "source": [
        "# Load the data from CSV file\n",
        "data = pd.read_csv('../content/drive/MyDrive/ExtraSensory/ThesisLab/DataScramble.csv')\n",
        "\n",
        "# Define the label names\n",
        "labels = ['indoor','daily']\n",
        "\n",
        "# Split the data into training and testing sets\n",
        "X = data.iloc[:, :12]\n",
        "y = data.iloc[:, 12:]\n",
        "X_train, X_test, y_train, y_test = train_test_split(X, y, test_size=0.2, random_state=42)\n",
        "\n",
        "# Fit the model on the training data\n",
        "k = 3\n",
        "clf = MultiOutputClassifier(KNeighborsClassifier(n_neighbors=k))\n",
        "clf.fit(X_train, y_train)\n",
        "\n",
        "# Make predictions on the testing data\n",
        "y_pred = clf.predict(X_test)\n",
        "\n",
        "# Evaluate the model's performance\n",
        "report = classification_report(y_test, y_pred, target_names=labels)\n",
        "print(report)\n",
        "\n",
        "# Calculate accuracy for each label\n",
        "for i in range(len(labels)):\n",
        "    acc = accuracy_score(y_test.iloc[:, i], y_pred[:, i])\n",
        "    print(f\"Accuracy for {labels[i]}: {acc}\")"
      ],
      "metadata": {
        "colab": {
          "base_uri": "https://localhost:8080/"
        },
        "id": "SFVQwaxhx0E9",
        "outputId": "55dfd6cf-871a-4e4c-dcf1-729f82ac244c"
      },
      "execution_count": null,
      "outputs": [
        {
          "output_type": "stream",
          "name": "stdout",
          "text": [
            "              precision    recall  f1-score   support\n",
            "\n",
            "      indoor       0.91      0.93      0.92     14838\n",
            "       daily       0.83      0.75      0.78      4220\n",
            "\n",
            "   micro avg       0.89      0.89      0.89     19058\n",
            "   macro avg       0.87      0.84      0.85     19058\n",
            "weighted avg       0.89      0.89      0.89     19058\n",
            " samples avg       0.81      0.81      0.81     19058\n",
            "\n",
            "Accuracy for indoor: 0.881588999236058\n",
            "Accuracy for daily: 0.9177330022918259\n"
          ]
        },
        {
          "output_type": "stream",
          "name": "stderr",
          "text": [
            "/usr/local/lib/python3.9/dist-packages/sklearn/metrics/_classification.py:1344: UndefinedMetricWarning: Precision and F-score are ill-defined and being set to 0.0 in samples with no predicted labels. Use `zero_division` parameter to control this behavior.\n",
            "  _warn_prf(average, modifier, msg_start, len(result))\n",
            "/usr/local/lib/python3.9/dist-packages/sklearn/metrics/_classification.py:1344: UndefinedMetricWarning: Recall and F-score are ill-defined and being set to 0.0 in samples with no true labels. Use `zero_division` parameter to control this behavior.\n",
            "  _warn_prf(average, modifier, msg_start, len(result))\n"
          ]
        }
      ]
    },
    {
      "cell_type": "code",
      "source": [],
      "metadata": {
        "id": "l2AJ9hXDxXx_"
      },
      "execution_count": null,
      "outputs": []
    },
    {
      "cell_type": "code",
      "source": [],
      "metadata": {
        "id": "K0nMnwbvxX0r"
      },
      "execution_count": null,
      "outputs": []
    }
  ]
}